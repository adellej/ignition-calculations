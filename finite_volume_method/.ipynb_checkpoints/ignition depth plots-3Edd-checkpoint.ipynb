{
 "cells": [
  {
   "cell_type": "code",
   "execution_count": 1,
   "metadata": {},
   "outputs": [],
   "source": [
    "from finite_volume import Diffuse\n",
    "import numpy as np\n",
    "from scipy import integrate\n",
    "from scipy import interpolate\n",
    "from matplotlib import pyplot as plt\n",
    "from matplotlib.colors import LogNorm, Normalize\n",
    "import scipy.linalg\n",
    "import color\n",
    "import cmasher as cmr\n",
    "from kepdump import load"
   ]
  },
  {
   "cell_type": "markdown",
   "metadata": {},
   "source": [
    "Terzan-5"
   ]
  },
  {
   "cell_type": "code",
   "execution_count": 46,
   "metadata": {},
   "outputs": [
    {
     "name": "stdout",
     "output_type": "stream",
     "text": [
      "3181286.5749620264 2748034.874552953\n"
     ]
    }
   ],
   "source": [
    "D = Diffuse(Nx=80,\n",
    "    ...:         Nz=80,\n",
    "    ...:         Lx=100000,\n",
    "    ...:         Lz=600,\n",
    "    ...:         Tcrust=1e7,\n",
    "    ...:         Thotspot=1e8,\n",
    "    ...:         Ttop=1e6,\n",
    "    ...:         bb_flag='bb',\n",
    "    ...:         Fbase=1.0e21,\n",
    "    ...:         hsize=20,\n",
    "    ...:         tol=1e-6,\n",
    "    ...:         op=1.0,\n",
    "    ...:         maxIter=300,\n",
    "    ...:         run_name=\"17480_1e8\",\n",
    "    ...:         rhoflag=\"fit\",\n",
    "    ...:         coord=\"cylindrical\",\n",
    "    ...:         kappa_path='/Users/adelle/Documents/ignition_calculations/cylindrical_coords/finite_volume_method/kappa.npz',\n",
    "    ...:         dump_path='/Users/adelle/Documents/ignition_calculations/kepler/run5/h#600')"
   ]
  },
  {
   "cell_type": "markdown",
   "metadata": {},
   "source": [
    "XTE 1814--338"
   ]
  },
  {
   "cell_type": "code",
   "execution_count": 93,
   "metadata": {},
   "outputs": [
    {
     "name": "stdout",
     "output_type": "stream",
     "text": [
      "1757536.9941764912 1459139.3605612004\n"
     ]
    }
   ],
   "source": [
    "D = Diffuse(Nx=200,\n",
    "Nz=280,\n",
    "Lx=400000,\n",
    "Lz=600,\n",
    "Tcrust=1e7,\n",
    "Thotspot=1.7e8,\n",
    "Ttop=1e6,\n",
    "bb_flag='bb',\n",
    "Fbase=1.0e21,\n",
    "hsize=60,\n",
    "tol=1e-6,\n",
    "op=1.0,\n",
    "maxIter=300,\n",
    "run_name=\"Alex\",\n",
    "rhoflag=\"fit\",\n",
    "coord=\"cylindrical\",\n",
    "kappa_path='/Users/adelle/Documents/ignition_calculations/cylindrical_coords/finite_volume_method/kappa.npz',\n",
    "dump_path='/Users/adelle/Documents/ignition_calculations/kepler/run3/h#298')"
   ]
  },
  {
   "cell_type": "markdown",
   "metadata": {},
   "source": [
    "Make plots"
   ]
  },
  {
   "cell_type": "code",
   "execution_count": 103,
   "metadata": {},
   "outputs": [
    {
     "name": "stdout",
     "output_type": "stream",
     "text": [
      "(279, 80)\n"
     ]
    }
   ],
   "source": [
    "# read in temperature data\n",
    "run = '17480_1.7e8'\n",
    "with open(\"data/\"+ run + \"_solutiondata.txt\") as f:\n",
    "        lines = (line for line in f if not line.startswith(\"#\"))\n",
    "        T2 = np.loadtxt(lines, delimiter=\" \", skiprows=1)\n",
    "print(np.shape(T))"
   ]
  },
  {
   "cell_type": "code",
   "execution_count": 91,
   "metadata": {},
   "outputs": [],
   "source": [
    "#read in Alex's temperature data:\n",
    "\n",
    "with open(\"/Users/adelle/Documents/ignition_calculations/cylindrical_coords/Alex/heat/\\\n",
    "data_solutiontemp_mdot1_qb1_Thot100000000.0_pole.txt\") as f:\n",
    "        lines = (line for line in f if not line.startswith(\"#\"))\n",
    "        T1 = np.loadtxt(lines, delimiter=\" \", skiprows=1)\n",
    "        \n",
    "with open(\"/Users/adelle/Documents/ignition_calculations/cylindrical_coords/Alex/heat/\\\n",
    "data_solutiontemp_mdot1_qb1_Thot200000000.0_pole.txt\") as f:\n",
    "        lines = (line for line in f if not line.startswith(\"#\"))\n",
    "        T2 = np.loadtxt(lines, delimiter=\" \", skiprows=1)\n",
    "        \n",
    "with open(\"/Users/adelle/Documents/ignition_calculations/cylindrical_coords/Alex/heat/\\\n",
    "data_solutiontemp_mdot1_qb1_Thot200000000.0_equator.txt\") as f:\n",
    "        lines = (line for line in f if not line.startswith(\"#\"))\n",
    "        T3 = np.loadtxt(lines, delimiter=\" \", skiprows=1)\n",
    "with open(\"/Users/adelle/Documents/ignition_calculations/cylindrical_coords/Alex/heat/\\\n",
    "data_solutiontemp_mdot1_qb1_Thot100000000.0_equator.txt\") as f:\n",
    "        lines = (line for line in f if not line.startswith(\"#\"))\n",
    "        T4 = np.loadtxt(lines, delimiter=\" \", skiprows=1)\n",
    "with open(\"/Users/adelle/Documents/ignition_calculations/cylindrical_coords/Alex/heat/\\\n",
    "data_solutiontemp_mdot1_qb1_Thot150000000.0_equator.txt\") as f:\n",
    "        lines = (line for line in f if not line.startswith(\"#\"))\n",
    "        T5 = np.loadtxt(lines, delimiter=\" \", skiprows=1)        \n",
    "        \n",
    "with open(\"/Users/adelle/Documents/ignition_calculations/cylindrical_coords/finite_volume_method/data/\\\n",
    "17480_17e8_1minfromburst_initialdata_kap.txt\") as f:\n",
    "        lines = (line for line in f if not line.startswith(\"#\"))\n",
    "        kap = np.loadtxt(lines, delimiter=\" \", skiprows=1)   \n",
    "with open(\"/Users/adelle/Documents/ignition_calculations/cylindrical_coords/finite_volume_method/data/\\\n",
    "17480_17e8_1minfromburst_initialdata.txt\") as f:\n",
    "        lines = (line for line in f if not line.startswith(\"#\"))\n",
    "        T_init = np.loadtxt(lines, delimiter=\" \", skiprows=1)   \n",
    "        "
   ]
  },
  {
   "cell_type": "code",
   "execution_count": 83,
   "metadata": {},
   "outputs": [
    {
     "data": {
      "image/png": "[encoded data removed]",
      "text/plain": [
       "<Figure size 720x360 with 2 Axes>"
      ]
     },
     "metadata": {
      "needs_background": "light"
     },
     "output_type": "display_data"
    }
   ],
   "source": [
    "f = plt.figure(figsize=(10, 5))\n",
    "\n",
    "zplot, xplot = np.meshgrid(D.z, np.hstack((-D.x[1:][::-1]/1e5, D.x/1e5)))\n",
    "kap_in = np.vstack((T3.transpose()[::-1, :], T3.transpose()))\n",
    "\n",
    "ax = f.add_subplot(111)\n",
    "colourMap = plt.cm.magma\n",
    "# cmap = color.ColorBlindRainbow()\n",
    "# colourMap = color.WaveFilter(cmap, nwaves = 40, amplitude=0.2)\n",
    "# ax.set_aspect('equal')\n",
    "# kappa = np.zeros((len(T_p_in[:, 0]), len(T_p_in[0, :])))\n",
    "# for i in range(0, len(T_p_in[:, 0])):\n",
    "#     for j in range(0, len(T_p_in[0, :])):\n",
    "#         kappa[i, j] = D.get_kappa(T_p_in[i,j], D.rhoc[j])\n",
    "cm = ax.pcolormesh(\n",
    "    xplot, zplot, (kap_in), cmap=colourMap\n",
    ")  # np.log10(\n",
    "# np.power(T_p, 0.25)),cmap=colourMap, norm=norm)\n",
    "# Set Colorbar\n",
    "cbar = f.colorbar(cm, orientation='vertical')\n",
    "cbar.set_label(label=r'log $T$', size=12)\n",
    "plt.ylabel(\"$r$ (cm)\", fontsize=12)\n",
    "plt.xlabel(\"$x$ (km)\",fontsize=12)\n",
    "\n",
    "\n",
    "ax.tick_params(axis='both', which='major', labelsize=12)\n",
    "ax.tick_params(axis='both', which='minor', labelsize=8)\n",
    "cbar.ax.tick_params(labelsize=12)\n",
    "\n",
    "plt.tight_layout()\n",
    "plt.savefig('paperplots/T_equator_hot.pdf')\n",
    "plt.show()\n",
    "plt.close()"
   ]
  },
  {
   "cell_type": "code",
   "execution_count": 129,
   "metadata": {},
   "outputs": [
    {
     "name": "stdout",
     "output_type": "stream",
     "text": [
      "(584, 200)\n"
     ]
    }
   ],
   "source": [
    "print(np.shape(T[:,:264]))"
   ]
  },
  {
   "cell_type": "code",
   "execution_count": 94,
   "metadata": {},
   "outputs": [],
   "source": [
    "# get column depth:\n",
    "# rhovals = -1 * D.rhoz \n",
    "# ycol = integrate.cumtrapz(rhovals[::-1], D.z[::-1], initial=1e-3)[::-1]\n",
    "\n",
    "rhovals2 = -1 * D.rhoz \n",
    "ycol2 = integrate.cumtrapz(rhovals2[::-1], D.z[::-1], initial=1e-3)[::-1]"
   ]
  },
  {
   "cell_type": "code",
   "execution_count": 26,
   "metadata": {},
   "outputs": [
    {
     "data": {
      "image/png": "[encoded data removed]",
      "text/plain": [
       "<Figure size 720x360 with 2 Axes>"
      ]
     },
     "metadata": {
      "needs_background": "light"
     },
     "output_type": "display_data"
    }
   ],
   "source": [
    "f = plt.figure(figsize=(10, 5))\n",
    "\n",
    "zplot, xplot = np.meshgrid(D.z, np.hstack((-D.x[1:][::-1]/1e5, D.x/1e5)))\n",
    "T_p_in = np.vstack((T1.transpose()[::-1, :], T1.transpose()))\n",
    "\n",
    "ax = f.add_subplot(111)\n",
    "colourMap = plt.cm.magma\n",
    "# cmap = color.ColorBlindRainbow()\n",
    "# colourMap = color.WaveFilter(cmap, nwaves = 40, amplitude=0.2)\n",
    "# ax.set_aspect('equal')\n",
    "cm = ax.pcolormesh(\n",
    "    xplot, zplot, (T_p_in), cmap=colourMap\n",
    ")  # np.log10(\n",
    "# np.power(T_p, 0.25)),cmap=colourMap, norm=norm)\n",
    "# Set Colorbar\n",
    "cbar = f.colorbar(cm, orientation='vertical')\n",
    "cbar.set_label(label='log($T$)', size=12)\n",
    "plt.ylabel(\"$r$ (cm)\", fontsize=12)\n",
    "plt.xlabel(\"$x$ (km)\",fontsize=12)\n",
    "\n",
    "\n",
    "ax.tick_params(axis='both', which='major', labelsize=12)\n",
    "ax.tick_params(axis='both', which='minor', labelsize=8)\n",
    "cbar.ax.tick_params(labelsize=12)\n",
    "\n",
    "plt.tight_layout()\n",
    "plt.savefig('paperplots/mdot10_qb1_Thmed.pdf')\n",
    "plt.show()\n",
    "plt.close()"
   ]
  },
  {
   "cell_type": "code",
   "execution_count": 102,
   "metadata": {},
   "outputs": [
    {
     "data": {
      "image/png": "[encoded data removed]",
      "text/plain": [
       "<Figure size 576x360 with 1 Axes>"
      ]
     },
     "metadata": {
      "needs_background": "light"
     },
     "output_type": "display_data"
    }
   ],
   "source": [
    "# def get_ignition(self, ycol, T):\n",
    "import color\n",
    "c = color.IsoColorBlind(5)\n",
    "# now plot\n",
    "fig, ax = plt.subplots(figsize=[8, 5])\n",
    "\n",
    "#-------------------------------------------------------\n",
    "# define columns to plot:\n",
    "ncols = 10\n",
    "cols = np.arange(0, D.Nx, (D.Nx + 1) / ncols, dtype=int)\n",
    "cols2 = cols * D.dx\n",
    "# get column depths, temperatures and ignition temperatures for these columns\n",
    "Ts = {}\n",
    "Tign = {}\n",
    "for i in cols:\n",
    "    Ts[f\"{i}\"] = 10**T2.transpose()[i, :]\n",
    "    Tign[f\"{i}\"] = D.Tign(ycol2 / 1e8)\n",
    "plt.plot(ycol2, Tign[f\"{i}\"], ls=\"--\", label=\"ignition\", color=\"k\")\n",
    "i=9\n",
    "plt.plot(\n",
    "    ycol2[1:], Ts[f\"{cols[i]}\"], color=c[1],ls='-'\n",
    ") #label=f\"column {cols2[i]}/{D.Lx}\"\n",
    "i = 0\n",
    "plt.plot(\n",
    "        ycol2[1:], Ts[f\"{cols[i]}\"], color=c[1], label=r'$T_{HS} 1\\times10^7$ K, pole', ls='-.'\n",
    "    )\n",
    "\n",
    "#-------------------------------------------------------\n",
    "# define columns to plot:\n",
    "ncols = 10\n",
    "cols = np.arange(0, D.Nx, (D.Nx + 1) / ncols, dtype=int)\n",
    "cols2 = cols * D.dx\n",
    "# get column depths, temperatures and ignition temperatures for these columns\n",
    "Ts = {}\n",
    "Tign = {}\n",
    "for i in cols:\n",
    "    Ts[f\"{i}\"] = 10**T1.transpose()[i, :]\n",
    "    Tign[f\"{i}\"] = D.Tign(ycol2 / 1e8)\n",
    "\n",
    "\n",
    "i=9\n",
    "plt.plot(\n",
    "    ycol2[1:], Ts[f\"{cols[i]}\"], color=c[0],ls='-'\n",
    ") #label=f\"column {cols2[i]}/{D.Lx}\"\n",
    "i = 0\n",
    "plt.plot(\n",
    "        ycol2[1:], Ts[f\"{cols[i]}\"], color=c[0], label=r'$T_{HS} = 8\\times10^7$ K, pole', ls='-.'\n",
    "    )\n",
    "\n",
    "#-------------------------------------------------------\n",
    "# define columns to plot:\n",
    "ncols = 10\n",
    "cols = np.arange(0, D.Nx, (D.Nx + 1) / ncols, dtype=int)\n",
    "cols2 = cols * D.dx\n",
    "# get column depths, temperatures and ignition temperatures for these columns\n",
    "Ts = {}\n",
    "Tign = {}\n",
    "for i in cols:\n",
    "    Ts[f\"{i}\"] = 10**T4.transpose()[i, :]\n",
    "    Tign[f\"{i}\"] = D.Tign(ycol / 1e8)\n",
    "\n",
    "i= 9\n",
    "plt.plot(\n",
    "    ycol[1:], Ts[f\"{cols[i]}\"], color=c[3],ls='-'\n",
    ") #label=f\"column {cols2[i]}/{D.Lx}\"\n",
    "i = 0\n",
    "plt.plot(\n",
    "        ycol[1:], Ts[f\"{cols[i]}\"], color=c[3], ls='-.', label=r'$T_{HS}=1\\times10^8$ K, equator'\n",
    "    )\n",
    "\n",
    "#-------------------------------------------------------\n",
    "\n",
    "#-------------------------------------------------------\n",
    "# define columns to plot:\n",
    "# ncols = 10\n",
    "# cols = np.arange(0, D.Nx, (D.Nx + 1) / ncols, dtype=int)\n",
    "# cols2 = cols * D.dx\n",
    "# # get column depths, temperatures and ignition temperatures for these columns\n",
    "# Ts = {}\n",
    "# Tign = {}\n",
    "# for i in cols:\n",
    "#     Ts[f\"{i}\"] = 10**T5.transpose()[i, :]\n",
    "#     Tign[f\"{i}\"] = D.Tign(ycol / 1e8)\n",
    "\n",
    "# i= 9\n",
    "# plt.plot(\n",
    "#     ycol[1:], Ts[f\"{cols[i]}\"], color=c[4],ls='-'\n",
    "# ) #label=f\"column {cols2[i]}/{D.Lx}\"\n",
    "# i = 0\n",
    "# plt.plot(\n",
    "#         ycol[1:], Ts[f\"{cols[i]}\"], color=c[4], ls='-.', label=r'$T_{HS}=1.5\\times10^8$ K'\n",
    "#     )\n",
    "\n",
    "#-------------------------------------------------------\n",
    "# define columns to plot:\n",
    "ncols = 10\n",
    "cols = np.arange(0, D.Nx, (D.Nx + 1) / ncols, dtype=int)\n",
    "cols2 = cols * D.dx\n",
    "# get column depths, temperatures and ignition temperatures for these columns\n",
    "Ts = {}\n",
    "Tign = {}\n",
    "for i in cols:\n",
    "    Ts[f\"{i}\"] = 10**T3.transpose()[i, :]\n",
    "    Tign[f\"{i}\"] = D.Tign(ycol / 1e8)\n",
    "\n",
    "i= 9\n",
    "plt.plot(\n",
    "    ycol[1:], Ts[f\"{cols[i]}\"], color=c[2],ls='-'\n",
    ") #label=f\"column {cols2[i]}/{D.Lx}\"\n",
    "i = 0\n",
    "plt.plot(\n",
    "        ycol[1:], Ts[f\"{cols[i]}\"], color=c[2], ls='-.', label=r'$T_{HS}=2\\times10^8$ K, equator'\n",
    "    )\n",
    "#-------------------------------------------------------\n",
    "# inset axis to zoom in on bottom:\n",
    "\n",
    "# inset axes....\n",
    "# axins = ax.inset_axes([0.5, 0.35, 0.25, 0.25])\n",
    "# for i in range(len(cols)):\n",
    "#     axins.plot(ycol, Ts[f\"{cols[i]}\"], color=c[i])\n",
    "# # sub region of the original image\n",
    "# x1, x2, y1, y2 = 2e7, 3.5e7, 4e7, 4.8e7\n",
    "# axins.set_xlim(x1, x2)\n",
    "# axins.set_ylim(y1, y2)\n",
    "# axins.set_xscale(\"log\")\n",
    "# axins.set_yscale(\"log\")\n",
    "# # axins.set_xticklabels('')\n",
    "# # axins.set_yticklabels('')\n",
    "\n",
    "# ax.indicate_inset_zoom(axins, label=None)\n",
    "hotspoty = np.arange(\n",
    "    int((D.Nx) / 2 - D.hsize / 2), int((D.Nx + 1) / 2 + D.hsize / 2)\n",
    ")\n",
    "\n",
    "plt.legend(loc=\"best\",fontsize=10)\n",
    "plt.xscale(\"log\")\n",
    "plt.yscale(\"log\")\n",
    "plt.xlabel(r\"log $y$ (g cm$^{-2}$)\",fontsize=12)\n",
    "plt.ylabel(\"log $T$ (K)\", fontsize=12)\n",
    "plt.axis([5e7,2e8,1e8,3e8])\n",
    "ax.tick_params(axis='both', which='major', labelsize=12)\n",
    "ax.tick_params(axis='both', which='minor', labelsize=8)\n",
    "\n",
    "plt.savefig('paperplots/mdot10_ign_qb01_comparison_zoom.pdf')\n",
    "plt.show()\n",
    "plt.close()"
   ]
  },
  {
   "cell_type": "markdown",
   "metadata": {},
   "source": []
  },
  {
   "cell_type": "code",
   "execution_count": null,
   "metadata": {},
   "outputs": [],
   "source": []
  },
  {
   "cell_type": "code",
   "execution_count": 106,
   "metadata": {},
   "outputs": [
    {
     "ename": "TypeError",
     "evalue": "Dimensions of C (160, 264) are incompatible with X (280) and/or Y (161); see help(pcolormesh)",
     "output_type": "error",
     "traceback": [
      "\u001b[0;31m---------------------------------------------------------------------------\u001b[0m",
      "\u001b[0;31mTypeError\u001b[0m                                 Traceback (most recent call last)",
      "\u001b[0;32m<ipython-input-106-beb459650cbf>\u001b[0m in \u001b[0;36m<module>\u001b[0;34m\u001b[0m\n\u001b[1;32m      9\u001b[0m \u001b[0;31m# colourMap = color.WaveFilter(cmap, nwaves = 40, amplitude=0.2)\u001b[0m\u001b[0;34m\u001b[0m\u001b[0;34m\u001b[0m\u001b[0;34m\u001b[0m\u001b[0m\n\u001b[1;32m     10\u001b[0m \u001b[0;31m# ax.set_aspect('equal')\u001b[0m\u001b[0;34m\u001b[0m\u001b[0;34m\u001b[0m\u001b[0;34m\u001b[0m\u001b[0m\n\u001b[0;32m---> 11\u001b[0;31m cm = ax.pcolormesh(\n\u001b[0m\u001b[1;32m     12\u001b[0m     \u001b[0mxplot\u001b[0m\u001b[0;34m,\u001b[0m \u001b[0mzplot\u001b[0m\u001b[0;34m,\u001b[0m\u001b[0mnp\u001b[0m\u001b[0;34m.\u001b[0m\u001b[0mlog10\u001b[0m\u001b[0;34m(\u001b[0m\u001b[0mnp\u001b[0m\u001b[0;34m.\u001b[0m\u001b[0mpower\u001b[0m\u001b[0;34m(\u001b[0m\u001b[0mT_p\u001b[0m\u001b[0;34m,\u001b[0m \u001b[0;36m0.25\u001b[0m\u001b[0;34m)\u001b[0m\u001b[0;34m)\u001b[0m\u001b[0;34m,\u001b[0m \u001b[0mcmap\u001b[0m\u001b[0;34m=\u001b[0m\u001b[0mcolourMap\u001b[0m\u001b[0;34m\u001b[0m\u001b[0;34m\u001b[0m\u001b[0m\n\u001b[1;32m     13\u001b[0m )  # np.log10(\n",
      "\u001b[0;32m~/miniconda3/lib/python3.8/site-packages/matplotlib/__init__.py\u001b[0m in \u001b[0;36minner\u001b[0;34m(ax, data, *args, **kwargs)\u001b[0m\n\u001b[1;32m   1436\u001b[0m     \u001b[0;32mdef\u001b[0m \u001b[0minner\u001b[0m\u001b[0;34m(\u001b[0m\u001b[0max\u001b[0m\u001b[0;34m,\u001b[0m \u001b[0;34m*\u001b[0m\u001b[0margs\u001b[0m\u001b[0;34m,\u001b[0m \u001b[0mdata\u001b[0m\u001b[0;34m=\u001b[0m\u001b[0;32mNone\u001b[0m\u001b[0;34m,\u001b[0m \u001b[0;34m**\u001b[0m\u001b[0mkwargs\u001b[0m\u001b[0;34m)\u001b[0m\u001b[0;34m:\u001b[0m\u001b[0;34m\u001b[0m\u001b[0;34m\u001b[0m\u001b[0m\n\u001b[1;32m   1437\u001b[0m         \u001b[0;32mif\u001b[0m \u001b[0mdata\u001b[0m \u001b[0;32mis\u001b[0m \u001b[0;32mNone\u001b[0m\u001b[0;34m:\u001b[0m\u001b[0;34m\u001b[0m\u001b[0;34m\u001b[0m\u001b[0m\n\u001b[0;32m-> 1438\u001b[0;31m             \u001b[0;32mreturn\u001b[0m \u001b[0mfunc\u001b[0m\u001b[0;34m(\u001b[0m\u001b[0max\u001b[0m\u001b[0;34m,\u001b[0m \u001b[0;34m*\u001b[0m\u001b[0mmap\u001b[0m\u001b[0;34m(\u001b[0m\u001b[0msanitize_sequence\u001b[0m\u001b[0;34m,\u001b[0m \u001b[0margs\u001b[0m\u001b[0;34m)\u001b[0m\u001b[0;34m,\u001b[0m \u001b[0;34m**\u001b[0m\u001b[0mkwargs\u001b[0m\u001b[0;34m)\u001b[0m\u001b[0;34m\u001b[0m\u001b[0;34m\u001b[0m\u001b[0m\n\u001b[0m\u001b[1;32m   1439\u001b[0m \u001b[0;34m\u001b[0m\u001b[0m\n\u001b[1;32m   1440\u001b[0m         \u001b[0mbound\u001b[0m \u001b[0;34m=\u001b[0m \u001b[0mnew_sig\u001b[0m\u001b[0;34m.\u001b[0m\u001b[0mbind\u001b[0m\u001b[0;34m(\u001b[0m\u001b[0max\u001b[0m\u001b[0;34m,\u001b[0m \u001b[0;34m*\u001b[0m\u001b[0margs\u001b[0m\u001b[0;34m,\u001b[0m \u001b[0;34m**\u001b[0m\u001b[0mkwargs\u001b[0m\u001b[0;34m)\u001b[0m\u001b[0;34m\u001b[0m\u001b[0;34m\u001b[0m\u001b[0m\n",
      "\u001b[0;32m~/miniconda3/lib/python3.8/site-packages/matplotlib/axes/_axes.py\u001b[0m in \u001b[0;36mpcolormesh\u001b[0;34m(self, alpha, norm, cmap, vmin, vmax, shading, antialiased, *args, **kwargs)\u001b[0m\n\u001b[1;32m   6083\u001b[0m         \u001b[0mkwargs\u001b[0m\u001b[0;34m.\u001b[0m\u001b[0msetdefault\u001b[0m\u001b[0;34m(\u001b[0m\u001b[0;34m'edgecolors'\u001b[0m\u001b[0;34m,\u001b[0m \u001b[0;34m'None'\u001b[0m\u001b[0;34m)\u001b[0m\u001b[0;34m\u001b[0m\u001b[0;34m\u001b[0m\u001b[0m\n\u001b[1;32m   6084\u001b[0m \u001b[0;34m\u001b[0m\u001b[0m\n\u001b[0;32m-> 6085\u001b[0;31m         X, Y, C, shading = self._pcolorargs('pcolormesh', *args,\n\u001b[0m\u001b[1;32m   6086\u001b[0m                                             shading=shading)\n\u001b[1;32m   6087\u001b[0m         \u001b[0mNy\u001b[0m\u001b[0;34m,\u001b[0m \u001b[0mNx\u001b[0m \u001b[0;34m=\u001b[0m \u001b[0mX\u001b[0m\u001b[0;34m.\u001b[0m\u001b[0mshape\u001b[0m\u001b[0;34m\u001b[0m\u001b[0;34m\u001b[0m\u001b[0m\n",
      "\u001b[0;32m~/miniconda3/lib/python3.8/site-packages/matplotlib/axes/_axes.py\u001b[0m in \u001b[0;36m_pcolorargs\u001b[0;34m(funcname, shading, *args)\u001b[0m\n\u001b[1;32m   5606\u001b[0m         \u001b[0;32mif\u001b[0m \u001b[0mshading\u001b[0m \u001b[0;34m==\u001b[0m \u001b[0;34m'flat'\u001b[0m\u001b[0;34m:\u001b[0m\u001b[0;34m\u001b[0m\u001b[0;34m\u001b[0m\u001b[0m\n\u001b[1;32m   5607\u001b[0m             \u001b[0;32mif\u001b[0m \u001b[0;32mnot\u001b[0m \u001b[0;34m(\u001b[0m\u001b[0mncols\u001b[0m \u001b[0;32min\u001b[0m \u001b[0;34m(\u001b[0m\u001b[0mNx\u001b[0m\u001b[0;34m,\u001b[0m \u001b[0mNx\u001b[0m \u001b[0;34m-\u001b[0m \u001b[0;36m1\u001b[0m\u001b[0;34m)\u001b[0m \u001b[0;32mand\u001b[0m \u001b[0mnrows\u001b[0m \u001b[0;32min\u001b[0m \u001b[0;34m(\u001b[0m\u001b[0mNy\u001b[0m\u001b[0;34m,\u001b[0m \u001b[0mNy\u001b[0m \u001b[0;34m-\u001b[0m \u001b[0;36m1\u001b[0m\u001b[0;34m)\u001b[0m\u001b[0;34m)\u001b[0m\u001b[0;34m:\u001b[0m\u001b[0;34m\u001b[0m\u001b[0;34m\u001b[0m\u001b[0m\n\u001b[0;32m-> 5608\u001b[0;31m                 raise TypeError('Dimensions of C %s are incompatible with'\n\u001b[0m\u001b[1;32m   5609\u001b[0m                                 ' X (%d) and/or Y (%d); see help(%s)' % (\n\u001b[1;32m   5610\u001b[0m                                     C.shape, Nx, Ny, funcname))\n",
      "\u001b[0;31mTypeError\u001b[0m: Dimensions of C (160, 264) are incompatible with X (280) and/or Y (161); see help(pcolormesh)"
     ]
    },
    {
     "data": {
      "image/png": "[encoded data removed]",
      "text/plain": [
       "<Figure size 720x360 with 1 Axes>"
      ]
     },
     "metadata": {
      "needs_background": "light"
     },
     "output_type": "display_data"
    }
   ],
   "source": [
    "f = plt.figure(figsize=(10, 5))\n",
    "\n",
    "zplot, xplot = np.meshgrid(D.z, np.hstack((-D.x[1:][::-1], D.x)))\n",
    "T_p = np.vstack((T2[::-1, :], T2))\n",
    "\n",
    "ax = f.add_subplot(111)\n",
    "colourMap = plt.cm.magma\n",
    "# cmap = color.ColorBlindRainbow()\n",
    "# colourMap = color.WaveFilter(cmap, nwaves = 40, amplitude=0.2)\n",
    "# ax.set_aspect('equal')\n",
    "cm = ax.pcolormesh(\n",
    "    xplot, zplot,np.log10(np.power(T_p, 0.25)), cmap=colourMap\n",
    ")  # np.log10(\n",
    "# np.power(T_p, 0.25)),cmap=colourMap, norm=norm)\n",
    "# Set Colorbar\n",
    "cbar = f.colorbar(cm, label='log(T)', orientation='horizontal')\n",
    "plt.ylabel(\"z\")\n",
    "plt.xlabel(\"x\")\n",
    "# Show the result in the plot window\n",
    "plt.tight_layout()\n",
    "plt.show()\n",
    "plt.close()"
   ]
  },
  {
   "cell_type": "code",
   "execution_count": null,
   "metadata": {},
   "outputs": [],
   "source": [
    "# make plots:\n",
    "D.get_ignition(ycol[1:], (10**T.transpose()))"
   ]
  }
 ],
 "metadata": {
  "kernelspec": {
   "display_name": "Python 3",
   "language": "python",
   "name": "python3"
  },
  "language_info": {
   "codemirror_mode": {
    "name": "ipython",
    "version": 3
   },
   "file_extension": ".py",
   "mimetype": "text/x-python",
   "name": "python",
   "nbconvert_exporter": "python",
   "pygments_lexer": "ipython3",
   "version": "3.8.5"
  }
 },
 "nbformat": 4,
 "nbformat_minor": 4
}
